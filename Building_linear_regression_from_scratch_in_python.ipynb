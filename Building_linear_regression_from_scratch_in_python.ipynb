{
  "nbformat": 4,
  "nbformat_minor": 0,
  "metadata": {
    "colab": {
      "provenance": [],
      "authorship_tag": "ABX9TyNmWDagKPFHcuxg1oIGguRV",
      "include_colab_link": true
    },
    "kernelspec": {
      "name": "python3",
      "display_name": "Python 3"
    },
    "language_info": {
      "name": "python"
    }
  },
  "cells": [
    {
      "cell_type": "markdown",
      "metadata": {
        "id": "view-in-github",
        "colab_type": "text"
      },
      "source": [
        "<a href=\"https://colab.research.google.com/github/Garima0186/Data-Science-Methodologies/blob/main/Building_linear_regression_from_scratch_in_python.ipynb\" target=\"_parent\"><img src=\"https://colab.research.google.com/assets/colab-badge.svg\" alt=\"Open In Colab\"/></a>"
      ]
    },
    {
      "cell_type": "code",
      "execution_count": null,
      "metadata": {
        "id": "WgABA7CAhK0w"
      },
      "outputs": [],
      "source": []
    },
    {
      "cell_type": "markdown",
      "source": [
        "**Linear Regression:**\n",
        "\n",
        "y = wx +b\n",
        "\n",
        "y = Dependent Variable\n",
        "\n",
        "x= Independent variable\n",
        "\n",
        "w = weight\n",
        "\n",
        "b= bias\n",
        "\n",
        "**Gradient desecent**\n",
        "\n",
        "It is an optimaization algorithim used for minimizing the loss function in various machine learning algorithims. It is used for updating the parameters of the learning model.\n",
        "\n",
        "w = w-a*dw\n",
        "\n",
        "b= b- a*db\n",
        "\n",
        "**Learning rate**\n",
        "\n",
        "Its a tuning parameter in an optimization algorithim that determines the step size at each iteration while moving toward a minimum of loss function.\n"
      ],
      "metadata": {
        "id": "JyI9osMBiaNm"
      }
    },
    {
      "cell_type": "markdown",
      "source": [
        "Importing the dependencies"
      ],
      "metadata": {
        "id": "QGDNZNrTkmLH"
      }
    },
    {
      "cell_type": "code",
      "source": [
        "import numpy as np\n"
      ],
      "metadata": {
        "id": "ogzakcXWjyGg"
      },
      "execution_count": 2,
      "outputs": []
    },
    {
      "cell_type": "markdown",
      "source": [
        "**Linear Regression**"
      ],
      "metadata": {
        "id": "pSoxp__bk1V6"
      }
    },
    {
      "cell_type": "code",
      "source": [
        "class Linear_Regression:\n",
        "\n",
        "# initiate the paramenters (learning_rate, no_of_iterations)\n",
        "\n",
        "  def __init__(self,learning_rate, no_of_iterations):\n",
        "\n",
        "        self.learning_rate = learning_rate\n",
        "        self.no_of_iterations = no_of_iterations\n",
        "\n",
        "# fit the data to our model\n",
        "  def fit(self,x, y):\n",
        "\n",
        "  # number of training examples & no. of features\n",
        "\n",
        "    self.m, self.n = x.shape        # no. of rows and columns, m is no. of trainig set , n is no of features\n",
        "\n",
        "  # initiating the weight and bias of our model\n",
        "\n",
        "    self.w = np.zeros(self.n)\n",
        "    self.b = 0\n",
        "    self.x = x\n",
        "    self.y = y\n",
        "\n",
        "  # implementing gradient descent\n",
        "\n",
        "    for i in range(self.no_of_iterations):\n",
        "      self.update_weights()\n",
        "\n",
        "\n",
        "# update the weights based on gradient descent\n",
        "  def update_weights(self):\n",
        "\n",
        "    y_prediction = self.predict(self.x)\n",
        "\n",
        "    # calculate the gradients\n",
        "\n",
        "    dw = -(2* (self.x.T).dot(self.y - y_prediction)) / self.m\n",
        "\n",
        "    db = -2 * np.sum(self.y - y_prediction)  / self.m\n",
        "\n",
        "    # update the weights\n",
        "\n",
        "    self.w = self.w - self.learning_rate * dw\n",
        "    self.b = self.b - self.learning_rate * db\n",
        "\n",
        "\n",
        "# predict the salary of a person\n",
        "  def predict(self,x):\n",
        "\n",
        "    return x.dot(self.w)+self.b\n",
        "\n",
        "\n",
        ""
      ],
      "metadata": {
        "id": "V3hJE_kvkxN7"
      },
      "execution_count": null,
      "outputs": []
    }
  ]
}