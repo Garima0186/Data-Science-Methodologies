{
  "nbformat": 4,
  "nbformat_minor": 0,
  "metadata": {
    "colab": {
      "provenance": [],
      "authorship_tag": "ABX9TyNygwUej3y6bkmK/KEpqXch",
      "include_colab_link": true
    },
    "kernelspec": {
      "name": "python3",
      "display_name": "Python 3"
    },
    "language_info": {
      "name": "python"
    }
  },
  "cells": [
    {
      "cell_type": "markdown",
      "metadata": {
        "id": "view-in-github",
        "colab_type": "text"
      },
      "source": [
        "<a href=\"https://colab.research.google.com/github/Garima0186/Data-Science-Methodologies/blob/main/Matix_Operation_in_Python.ipynb\" target=\"_parent\"><img src=\"https://colab.research.google.com/assets/colab-badge.svg\" alt=\"Open In Colab\"/></a>"
      ]
    },
    {
      "cell_type": "markdown",
      "source": [
        "Importing  Numpy Libraray"
      ],
      "metadata": {
        "id": "E2YVo0pn5bLv"
      }
    },
    {
      "cell_type": "code",
      "execution_count": 1,
      "metadata": {
        "id": "Epinnojt4vhp"
      },
      "outputs": [],
      "source": [
        "import numpy as np"
      ]
    },
    {
      "cell_type": "markdown",
      "source": [
        "Matrix Addition"
      ],
      "metadata": {
        "id": "IJ5h32t35ihY"
      }
    },
    {
      "cell_type": "code",
      "source": [
        "# two matrices can be added only if they have the same shape\n",
        "\n",
        "# creating 2 matrices"
      ],
      "metadata": {
        "id": "yy1f0RqL5kCK"
      },
      "execution_count": 2,
      "outputs": []
    },
    {
      "cell_type": "code",
      "source": [
        "a= np.array([[2,3],[4,5]])\n",
        "b = np.array([[6,7],[8,9]])\n",
        "\n",
        "print(a)\n",
        "print(b)"
      ],
      "metadata": {
        "colab": {
          "base_uri": "https://localhost:8080/"
        },
        "id": "vooz8ty85vor",
        "outputId": "aa6946b7-fd03-48b9-ca1f-737d91ad8502"
      },
      "execution_count": 3,
      "outputs": [
        {
          "output_type": "stream",
          "name": "stdout",
          "text": [
            "[[2 3]\n",
            " [4 5]]\n",
            "[[6 7]\n",
            " [8 9]]\n"
          ]
        }
      ]
    },
    {
      "cell_type": "code",
      "source": [
        "a.shape"
      ],
      "metadata": {
        "colab": {
          "base_uri": "https://localhost:8080/"
        },
        "id": "YGjYZS5O6Bg0",
        "outputId": "33581c29-2354-4021-84d2-3aa2d6e4453e"
      },
      "execution_count": 5,
      "outputs": [
        {
          "output_type": "execute_result",
          "data": {
            "text/plain": [
              "(2, 2)"
            ]
          },
          "metadata": {},
          "execution_count": 5
        }
      ]
    },
    {
      "cell_type": "code",
      "source": [
        "b.shape"
      ],
      "metadata": {
        "colab": {
          "base_uri": "https://localhost:8080/"
        },
        "id": "sA41kOQI6G0Q",
        "outputId": "c34268b0-535d-4048-b8bb-df48da07030c"
      },
      "execution_count": 6,
      "outputs": [
        {
          "output_type": "execute_result",
          "data": {
            "text/plain": [
              "(2, 2)"
            ]
          },
          "metadata": {},
          "execution_count": 6
        }
      ]
    },
    {
      "cell_type": "markdown",
      "source": [
        "Adding two matrices"
      ],
      "metadata": {
        "id": "UaJNTocR6WS3"
      }
    },
    {
      "cell_type": "code",
      "source": [
        "sum = a+b\n",
        "print(sum)"
      ],
      "metadata": {
        "colab": {
          "base_uri": "https://localhost:8080/"
        },
        "id": "se8YvtQx6OTD",
        "outputId": "533e1eec-4f16-4691-9e49-13ad4131fcaf"
      },
      "execution_count": 7,
      "outputs": [
        {
          "output_type": "stream",
          "name": "stdout",
          "text": [
            "[[ 8 10]\n",
            " [12 14]]\n"
          ]
        }
      ]
    },
    {
      "cell_type": "code",
      "source": [
        "# create 2 matrices with random values\n",
        "\n",
        "matrix_1 = np.random.randint(10, size = (3,3))\n",
        "matrix_2 = np.random.randint(20, size = (3,3))\n",
        "\n",
        "print(matrix_1)\n",
        "print(matrix_2)\n"
      ],
      "metadata": {
        "colab": {
          "base_uri": "https://localhost:8080/"
        },
        "id": "TxuRDy7R6bCM",
        "outputId": "de24230b-2688-4dcc-acbe-898dbb2f916a"
      },
      "execution_count": 9,
      "outputs": [
        {
          "output_type": "stream",
          "name": "stdout",
          "text": [
            "[[5 7 9]\n",
            " [4 4 2]\n",
            " [9 2 8]]\n",
            "[[18 17  2]\n",
            " [11  3  8]\n",
            " [ 3  4  3]]\n"
          ]
        }
      ]
    },
    {
      "cell_type": "code",
      "source": [
        "sum = np.add(matrix_1, matrix_2)\n",
        "print(sum)"
      ],
      "metadata": {
        "colab": {
          "base_uri": "https://localhost:8080/"
        },
        "id": "AnfoGW81669k",
        "outputId": "ca5ad754-c914-4eb4-ecb4-bd773350482d"
      },
      "execution_count": 10,
      "outputs": [
        {
          "output_type": "stream",
          "name": "stdout",
          "text": [
            "[[23 24 11]\n",
            " [15  7 10]\n",
            " [12  6 11]]\n"
          ]
        }
      ]
    },
    {
      "cell_type": "code",
      "source": [
        "matrix_3 = np.random.randint(10, size = (3,3))\n",
        "matrix_4 = np.random.randint(20, size = (3,4))\n",
        "\n",
        "print(matrix_1)\n",
        "print(matrix_2)\n",
        "\n",
        "sum_2 = np.add(matrix_3, matrix_4)\n",
        "print(sum_2)"
      ],
      "metadata": {
        "colab": {
          "base_uri": "https://localhost:8080/",
          "height": 297
        },
        "id": "tBGDDiFn7GJ6",
        "outputId": "e8a5a457-5e36-4426-9bf3-55b2a8f852a8"
      },
      "execution_count": 11,
      "outputs": [
        {
          "output_type": "stream",
          "name": "stdout",
          "text": [
            "[[5 7 9]\n",
            " [4 4 2]\n",
            " [9 2 8]]\n",
            "[[18 17  2]\n",
            " [11  3  8]\n",
            " [ 3  4  3]]\n"
          ]
        },
        {
          "output_type": "error",
          "ename": "ValueError",
          "evalue": "operands could not be broadcast together with shapes (3,3) (3,4) ",
          "traceback": [
            "\u001b[0;31m---------------------------------------------------------------------------\u001b[0m",
            "\u001b[0;31mValueError\u001b[0m                                Traceback (most recent call last)",
            "\u001b[0;32m<ipython-input-11-3477662693>\u001b[0m in \u001b[0;36m<cell line: 0>\u001b[0;34m()\u001b[0m\n\u001b[1;32m      5\u001b[0m \u001b[0mprint\u001b[0m\u001b[0;34m(\u001b[0m\u001b[0mmatrix_2\u001b[0m\u001b[0;34m)\u001b[0m\u001b[0;34m\u001b[0m\u001b[0;34m\u001b[0m\u001b[0m\n\u001b[1;32m      6\u001b[0m \u001b[0;34m\u001b[0m\u001b[0m\n\u001b[0;32m----> 7\u001b[0;31m \u001b[0msum_2\u001b[0m \u001b[0;34m=\u001b[0m \u001b[0mnp\u001b[0m\u001b[0;34m.\u001b[0m\u001b[0madd\u001b[0m\u001b[0;34m(\u001b[0m\u001b[0mmatrix_3\u001b[0m\u001b[0;34m,\u001b[0m \u001b[0mmatrix_4\u001b[0m\u001b[0;34m)\u001b[0m\u001b[0;34m\u001b[0m\u001b[0;34m\u001b[0m\u001b[0m\n\u001b[0m\u001b[1;32m      8\u001b[0m \u001b[0mprint\u001b[0m\u001b[0;34m(\u001b[0m\u001b[0msum_2\u001b[0m\u001b[0;34m)\u001b[0m\u001b[0;34m\u001b[0m\u001b[0;34m\u001b[0m\u001b[0m\n",
            "\u001b[0;31mValueError\u001b[0m: operands could not be broadcast together with shapes (3,3) (3,4) "
          ]
        }
      ]
    },
    {
      "cell_type": "markdown",
      "source": [
        "We get this error because the shape of matrix_3 and matrix_4 are different"
      ],
      "metadata": {
        "id": "XvuzMKZS7bDB"
      }
    },
    {
      "cell_type": "markdown",
      "source": [
        "Matrix Subtraction"
      ],
      "metadata": {
        "id": "wAqpYMdG7iak"
      }
    },
    {
      "cell_type": "code",
      "source": [
        "a= np.array([[2,3],[4,5]])\n",
        "b = np.array([[6,7],[8,9]])\n",
        "\n",
        "print(a)\n",
        "print(b)"
      ],
      "metadata": {
        "colab": {
          "base_uri": "https://localhost:8080/"
        },
        "id": "LBn5F6ts7iJj",
        "outputId": "e8780517-e5ab-4fda-db38-dd277915ad4b"
      },
      "execution_count": 12,
      "outputs": [
        {
          "output_type": "stream",
          "name": "stdout",
          "text": [
            "[[2 3]\n",
            " [4 5]]\n",
            "[[6 7]\n",
            " [8 9]]\n"
          ]
        }
      ]
    },
    {
      "cell_type": "code",
      "source": [
        "difference = a-b\n",
        "print(difference)"
      ],
      "metadata": {
        "colab": {
          "base_uri": "https://localhost:8080/"
        },
        "id": "NMtSv5vi7hM8",
        "outputId": "6ebed257-ab0b-4704-c673-678c10cdc465"
      },
      "execution_count": 13,
      "outputs": [
        {
          "output_type": "stream",
          "name": "stdout",
          "text": [
            "[[-4 -4]\n",
            " [-4 -4]]\n"
          ]
        }
      ]
    },
    {
      "cell_type": "code",
      "source": [
        "# create 2 matrices with random values\n",
        "\n",
        "matrix_1 = np.random.randint(10, size = (3,3))\n",
        "matrix_2 = np.random.randint(20, size = (3,3))\n",
        "\n",
        "print(matrix_1)\n",
        "print(matrix_2)\n"
      ],
      "metadata": {
        "colab": {
          "base_uri": "https://localhost:8080/"
        },
        "id": "pFnIOhdr7toC",
        "outputId": "d4990b77-1300-46a2-a011-7a016c7f298a"
      },
      "execution_count": 14,
      "outputs": [
        {
          "output_type": "stream",
          "name": "stdout",
          "text": [
            "[[4 1 1]\n",
            " [7 2 7]\n",
            " [1 0 1]]\n",
            "[[ 3  8  9]\n",
            " [16  1  1]\n",
            " [ 0 11  1]]\n"
          ]
        }
      ]
    },
    {
      "cell_type": "code",
      "source": [
        "diff = np.subtract(matrix_1, matrix_2)\n",
        "print(diff)"
      ],
      "metadata": {
        "colab": {
          "base_uri": "https://localhost:8080/"
        },
        "id": "PGqMSffN76B3",
        "outputId": "1ad47580-3456-436a-a573-bdd378b7913a"
      },
      "execution_count": 15,
      "outputs": [
        {
          "output_type": "stream",
          "name": "stdout",
          "text": [
            "[[  1  -7  -8]\n",
            " [ -9   1   6]\n",
            " [  1 -11   0]]\n"
          ]
        }
      ]
    },
    {
      "cell_type": "markdown",
      "source": [
        "Multiply a matrix by scalar"
      ],
      "metadata": {
        "id": "bb4BwZ_r8La_"
      }
    },
    {
      "cell_type": "code",
      "source": [
        "x= 5\n",
        "y = np.random.randint(10, size = (4,4))\n",
        "\n",
        "print(y)\n",
        "\n",
        ""
      ],
      "metadata": {
        "colab": {
          "base_uri": "https://localhost:8080/"
        },
        "id": "auk18rmf8Esa",
        "outputId": "88e6f84e-566b-47b2-861b-41e7e0f5b5f7"
      },
      "execution_count": 16,
      "outputs": [
        {
          "output_type": "stream",
          "name": "stdout",
          "text": [
            "[[8 4 2 0]\n",
            " [9 9 7 7]\n",
            " [2 3 5 8]\n",
            " [7 2 6 7]]\n"
          ]
        }
      ]
    },
    {
      "cell_type": "code",
      "source": [
        "product = np.multiply(x,y)\n",
        "print(product)"
      ],
      "metadata": {
        "colab": {
          "base_uri": "https://localhost:8080/"
        },
        "id": "s_-Vd11i8s3T",
        "outputId": "93d96f69-1319-40a6-e507-f87b15639334"
      },
      "execution_count": 17,
      "outputs": [
        {
          "output_type": "stream",
          "name": "stdout",
          "text": [
            "[[40 20 10  0]\n",
            " [45 45 35 35]\n",
            " [10 15 25 40]\n",
            " [35 10 30 35]]\n"
          ]
        }
      ]
    },
    {
      "cell_type": "markdown",
      "source": [
        "Multiplying 2 Matrix"
      ],
      "metadata": {
        "id": "8nhZBGRD84t8"
      }
    },
    {
      "cell_type": "code",
      "source": [
        "matrix_3 = np.random.randint(5, size = (3,3))\n",
        "matrix_4 = np.random.randint(5, size = (3,4))\n",
        "\n"
      ],
      "metadata": {
        "id": "MSv9pEgH83Yh"
      },
      "execution_count": 18,
      "outputs": []
    },
    {
      "cell_type": "code",
      "source": [
        "print(matrix_3)\n",
        "print(matrix_4)"
      ],
      "metadata": {
        "colab": {
          "base_uri": "https://localhost:8080/"
        },
        "id": "NCHTkO1t-DnK",
        "outputId": "6a9e1e72-b866-4503-f6c2-5d54e12e804c"
      },
      "execution_count": 19,
      "outputs": [
        {
          "output_type": "stream",
          "name": "stdout",
          "text": [
            "[[4 3 1]\n",
            " [4 3 0]\n",
            " [0 2 0]]\n",
            "[[3 2 4 1]\n",
            " [3 0 2 1]\n",
            " [0 0 2 1]]\n"
          ]
        }
      ]
    },
    {
      "cell_type": "code",
      "source": [
        "product = np.dot(matrix_3, matrix_4)\n",
        "print(product)"
      ],
      "metadata": {
        "colab": {
          "base_uri": "https://localhost:8080/"
        },
        "id": "F77AcclM-Gk6",
        "outputId": "dd655af9-fded-4b5b-85a3-7ab719d0fc28"
      },
      "execution_count": 20,
      "outputs": [
        {
          "output_type": "stream",
          "name": "stdout",
          "text": [
            "[[21  8 24  8]\n",
            " [21  8 22  7]\n",
            " [ 6  0  4  2]]\n"
          ]
        }
      ]
    },
    {
      "cell_type": "code",
      "source": [
        "product.shape"
      ],
      "metadata": {
        "colab": {
          "base_uri": "https://localhost:8080/"
        },
        "id": "Im0vV0D7-QKR",
        "outputId": "9dca271e-e364-4b12-8786-a25ad511d6d8"
      },
      "execution_count": 21,
      "outputs": [
        {
          "output_type": "execute_result",
          "data": {
            "text/plain": [
              "(3, 4)"
            ]
          },
          "metadata": {},
          "execution_count": 21
        }
      ]
    },
    {
      "cell_type": "code",
      "source": [
        "matrix_3 = np.random.randint(5, size = (3,3))\n",
        "matrix_4 = np.random.randint(5, size = (4,4))"
      ],
      "metadata": {
        "id": "KEu6v1Zc-UqA"
      },
      "execution_count": 24,
      "outputs": []
    },
    {
      "cell_type": "code",
      "source": [
        "product = np.dot(matrix_3, matrix_4)\n",
        "print(product)"
      ],
      "metadata": {
        "colab": {
          "base_uri": "https://localhost:8080/",
          "height": 159
        },
        "id": "_NyiK6Jk-uoI",
        "outputId": "b719752f-4658-4465-fab4-0c24530d2290"
      },
      "execution_count": 25,
      "outputs": [
        {
          "output_type": "error",
          "ename": "ValueError",
          "evalue": "shapes (3,3) and (4,4) not aligned: 3 (dim 1) != 4 (dim 0)",
          "traceback": [
            "\u001b[0;31m---------------------------------------------------------------------------\u001b[0m",
            "\u001b[0;31mValueError\u001b[0m                                Traceback (most recent call last)",
            "\u001b[0;32m<ipython-input-25-3069606742>\u001b[0m in \u001b[0;36m<cell line: 0>\u001b[0;34m()\u001b[0m\n\u001b[0;32m----> 1\u001b[0;31m \u001b[0mproduct\u001b[0m \u001b[0;34m=\u001b[0m \u001b[0mnp\u001b[0m\u001b[0;34m.\u001b[0m\u001b[0mdot\u001b[0m\u001b[0;34m(\u001b[0m\u001b[0mmatrix_3\u001b[0m\u001b[0;34m,\u001b[0m \u001b[0mmatrix_4\u001b[0m\u001b[0;34m)\u001b[0m\u001b[0;34m\u001b[0m\u001b[0;34m\u001b[0m\u001b[0m\n\u001b[0m\u001b[1;32m      2\u001b[0m \u001b[0mprint\u001b[0m\u001b[0;34m(\u001b[0m\u001b[0mproduct\u001b[0m\u001b[0;34m)\u001b[0m\u001b[0;34m\u001b[0m\u001b[0;34m\u001b[0m\u001b[0m\n",
            "\u001b[0;31mValueError\u001b[0m: shapes (3,3) and (4,4) not aligned: 3 (dim 1) != 4 (dim 0)"
          ]
        }
      ]
    },
    {
      "cell_type": "markdown",
      "source": [
        "**Elementwise Matrix multiplication**\n",
        "\n",
        "Both the matrix have same shape"
      ],
      "metadata": {
        "id": "hOvq8waf_FQy"
      }
    },
    {
      "cell_type": "code",
      "source": [
        "matrix_3 = np.random.randint(5, size = (3,3))\n",
        "matrix_4 = np.random.randint(5, size = (3,3))"
      ],
      "metadata": {
        "id": "xBFHNYVN-wyd"
      },
      "execution_count": 26,
      "outputs": []
    },
    {
      "cell_type": "code",
      "source": [
        "print(matrix_3)"
      ],
      "metadata": {
        "colab": {
          "base_uri": "https://localhost:8080/"
        },
        "id": "M_h2WJ3o_Von",
        "outputId": "0d8cb22f-371f-4e0c-daa0-abc4bfa87508"
      },
      "execution_count": 27,
      "outputs": [
        {
          "output_type": "stream",
          "name": "stdout",
          "text": [
            "[[1 1 2]\n",
            " [3 0 0]\n",
            " [4 3 4]]\n"
          ]
        }
      ]
    },
    {
      "cell_type": "code",
      "source": [
        "print(matrix_4)"
      ],
      "metadata": {
        "colab": {
          "base_uri": "https://localhost:8080/"
        },
        "id": "znWu4rJT_XmO",
        "outputId": "ba2d4801-dadd-44b9-da0e-d2850bd49d30"
      },
      "execution_count": 28,
      "outputs": [
        {
          "output_type": "stream",
          "name": "stdout",
          "text": [
            "[[3 4 1]\n",
            " [0 1 3]\n",
            " [2 3 3]]\n"
          ]
        }
      ]
    },
    {
      "cell_type": "code",
      "source": [
        "product =np.multiply(matrix_3, matrix_4)\n",
        "print(product)"
      ],
      "metadata": {
        "colab": {
          "base_uri": "https://localhost:8080/"
        },
        "id": "jvHraxIX_ZuN",
        "outputId": "3d1e730f-29b6-45e3-bec4-f853a418bce3"
      },
      "execution_count": 29,
      "outputs": [
        {
          "output_type": "stream",
          "name": "stdout",
          "text": [
            "[[ 3  4  2]\n",
            " [ 0  0  0]\n",
            " [ 8  9 12]]\n"
          ]
        }
      ]
    },
    {
      "cell_type": "code",
      "source": [],
      "metadata": {
        "id": "kLDwNCNG_dPy"
      },
      "execution_count": null,
      "outputs": []
    }
  ]
}