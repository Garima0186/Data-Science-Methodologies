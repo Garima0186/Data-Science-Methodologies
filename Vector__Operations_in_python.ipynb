{
  "nbformat": 4,
  "nbformat_minor": 0,
  "metadata": {
    "colab": {
      "provenance": [],
      "authorship_tag": "ABX9TyMPcwH6J/j9TOUhEmRDzT6r",
      "include_colab_link": true
    },
    "kernelspec": {
      "name": "python3",
      "display_name": "Python 3"
    },
    "language_info": {
      "name": "python"
    }
  },
  "cells": [
    {
      "cell_type": "markdown",
      "metadata": {
        "id": "view-in-github",
        "colab_type": "text"
      },
      "source": [
        "<a href=\"https://colab.research.google.com/github/Garima0186/Data-Science-Methodologies/blob/main/Vector__Operations_in_python.ipynb\" target=\"_parent\"><img src=\"https://colab.research.google.com/assets/colab-badge.svg\" alt=\"Open In Colab\"/></a>"
      ]
    },
    {
      "cell_type": "code",
      "execution_count": 1,
      "metadata": {
        "id": "7jv_qSoCk8sE"
      },
      "outputs": [],
      "source": [
        "import numpy as np\n"
      ]
    },
    {
      "cell_type": "markdown",
      "source": [
        "Dot Product of 2 Vectors"
      ],
      "metadata": {
        "id": "BbvgrcCSnVSy"
      }
    },
    {
      "cell_type": "code",
      "source": [
        "a= np.array([2,3])\n",
        "b= np.array([4,4])\n",
        "\n",
        "a_dot_b = np.dot(a,b)\n"
      ],
      "metadata": {
        "id": "bdYSAqUKnPnc"
      },
      "execution_count": 4,
      "outputs": []
    },
    {
      "cell_type": "code",
      "source": [
        "print(a_dot_b)"
      ],
      "metadata": {
        "colab": {
          "base_uri": "https://localhost:8080/"
        },
        "id": "4qORVgaTnuK_",
        "outputId": "704c74f8-823e-4d21-f349-f284dd2b1255"
      },
      "execution_count": 5,
      "outputs": [
        {
          "output_type": "stream",
          "name": "stdout",
          "text": [
            "20\n"
          ]
        }
      ]
    },
    {
      "cell_type": "code",
      "source": [
        "c= np.array([40,20,35])\n",
        "d = np.array([53,24,68])\n",
        "\n",
        "c_dot_d = np.dot(c,d)"
      ],
      "metadata": {
        "id": "JupUOLoCn6Nt"
      },
      "execution_count": 6,
      "outputs": []
    },
    {
      "cell_type": "code",
      "source": [
        "print(c_dot_d)"
      ],
      "metadata": {
        "colab": {
          "base_uri": "https://localhost:8080/"
        },
        "id": "5dEA6faaoKig",
        "outputId": "e0674492-cc8f-4614-9fcd-2a2721d30fac"
      },
      "execution_count": 7,
      "outputs": [
        {
          "output_type": "stream",
          "name": "stdout",
          "text": [
            "4980\n"
          ]
        }
      ]
    },
    {
      "cell_type": "markdown",
      "source": [
        "Cross product of 2 Vectors"
      ],
      "metadata": {
        "id": "2ULQLuoqn11m"
      }
    },
    {
      "cell_type": "code",
      "source": [
        "a= np.array([2,3])\n",
        "b= np.array([4,4])\n",
        "\n",
        "a_cross_b = np.cross(a,b)"
      ],
      "metadata": {
        "colab": {
          "base_uri": "https://localhost:8080/"
        },
        "id": "VmgXaeJMnw6l",
        "outputId": "8534880d-a89b-4962-d0f9-3ac56b592f0a"
      },
      "execution_count": 8,
      "outputs": [
        {
          "output_type": "stream",
          "name": "stderr",
          "text": [
            "<ipython-input-8-1265263233>:4: DeprecationWarning: Arrays of 2-dimensional vectors are deprecated. Use arrays of 3-dimensional vectors instead. (deprecated in NumPy 2.0)\n",
            "  a_cross_b = np.cross(a,b)\n"
          ]
        }
      ]
    },
    {
      "cell_type": "code",
      "source": [
        "print(a_cross_b)"
      ],
      "metadata": {
        "colab": {
          "base_uri": "https://localhost:8080/"
        },
        "id": "OKmok_lnobI4",
        "outputId": "0f0e490a-959d-4f88-e010-6b5c4c17c412"
      },
      "execution_count": 9,
      "outputs": [
        {
          "output_type": "stream",
          "name": "stdout",
          "text": [
            "-4\n"
          ]
        }
      ]
    },
    {
      "cell_type": "code",
      "source": [
        "c= np.array([5,10,20])\n",
        "d = np.array([18,32,50])\n",
        "\n",
        "c_cross_d = np.cross(c,d)"
      ],
      "metadata": {
        "id": "ofd2JGVzohUM"
      },
      "execution_count": 10,
      "outputs": []
    },
    {
      "cell_type": "code",
      "source": [
        "print(c_cross_d)"
      ],
      "metadata": {
        "colab": {
          "base_uri": "https://localhost:8080/"
        },
        "id": "GrYW6K2ho_lK",
        "outputId": "6703bace-ab00-4353-b263-e5ae8ac64114"
      },
      "execution_count": 11,
      "outputs": [
        {
          "output_type": "stream",
          "name": "stdout",
          "text": [
            "[-140  110  -20]\n"
          ]
        }
      ]
    },
    {
      "cell_type": "markdown",
      "source": [
        "Projection of one vector onto another vector : 'a' vector on 'b' vector"
      ],
      "metadata": {
        "id": "jXTsdxoXpSZv"
      }
    },
    {
      "cell_type": "code",
      "source": [
        "a= np.array([2,5])\n",
        "v= np.array([8,-6])\n",
        "\n",
        "# magnitude of v vector\n",
        "\n",
        "magnitude_of_v_vector = np.sqrt(sum(v**2))\n",
        "\n",
        "proj_of_a_on_v =(np.dot(a,v)/magnitude_of_v_vector**2)*v\n"
      ],
      "metadata": {
        "id": "0HKJ-uUdpB3v"
      },
      "execution_count": 14,
      "outputs": []
    },
    {
      "cell_type": "code",
      "source": [
        "print(proj_of_a_on_v)"
      ],
      "metadata": {
        "colab": {
          "base_uri": "https://localhost:8080/"
        },
        "id": "81DDZJXNqf0o",
        "outputId": "5de35cac-7c0e-469f-c297-340f5d251196"
      },
      "execution_count": 15,
      "outputs": [
        {
          "output_type": "stream",
          "name": "stdout",
          "text": [
            "[-1.12  0.84]\n"
          ]
        }
      ]
    },
    {
      "cell_type": "code",
      "source": [
        "a= np.array([23,45,62])\n",
        "v= np.array([45,82,67])\n",
        "\n",
        "# magnitude of v vector\n",
        "\n",
        "magnitude_of_v_vector = np.sqrt(sum(v**2))\n",
        "\n",
        "proj_of_a_on_v =(np.dot(a,v)/magnitude_of_v_vector**2)*v\n"
      ],
      "metadata": {
        "id": "1Gkf9G0Lqmqa"
      },
      "execution_count": 16,
      "outputs": []
    },
    {
      "cell_type": "code",
      "source": [
        "print(proj_of_a_on_v)"
      ],
      "metadata": {
        "colab": {
          "base_uri": "https://localhost:8080/"
        },
        "id": "HrWHrHTnrA6D",
        "outputId": "7d6da7ef-dac1-42a9-ee9d-ecc2708c49b0"
      },
      "execution_count": 17,
      "outputs": [
        {
          "output_type": "stream",
          "name": "stdout",
          "text": [
            "[30.18242937 54.99909352 44.93828373]\n"
          ]
        }
      ]
    },
    {
      "cell_type": "code",
      "source": [],
      "metadata": {
        "id": "LHC90ugPrClf"
      },
      "execution_count": null,
      "outputs": []
    }
  ]
}